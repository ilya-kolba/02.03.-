{
 "cells": [
  {
   "cell_type": "markdown",
   "id": "3d84f4f3-b336-4e92-8bc6-83c566ac0a63",
   "metadata": {},
   "source": [
    "В 1. Написать программу на Python для нормализации списка чисел a, чтобы значения размещались в интервале от 0 до 1. Например, список чисел a = [2, 4, 10, 6, 8, 4] должен быть преобразован в список [0.0, 0.25, 1.0, 0.5, 0.75, 0.25]. Совет: воспользуйтесь встроенными функциями min и max, возвращающими минимальное и максимальное значения в последовательности соответственно, например min(a) возвращает 2 из приведенного выше списка чисел."
   ]
  },
  {
   "cell_type": "code",
   "execution_count": 1,
   "id": "d229c84f-50b5-4d2e-a0c0-e9643ef21b08",
   "metadata": {},
   "outputs": [
    {
     "name": "stdout",
     "output_type": "stream",
     "text": [
      "[0.0, 0.25, 1.0, 0.5, 0.75, 0.25]\n"
     ]
    }
   ],
   "source": [
    "def normalize_list(a):\n",
    "    # Находим минимальное и максимальное значения в списке\n",
    "    min_val = min(a)\n",
    "    max_val = max(a)\n",
    "\n",
    "    # Нормализуем значения в интервале от 0 до 1\n",
    "    normalized_list = [(x - min_val) / (max_val - min_val) for x in a]\n",
    "\n",
    "    return normalized_list\n",
    "\n",
    "# Пример использования\n",
    "a = [2, 4, 10, 6, 8, 4]\n",
    "normalized_result = normalize_list(a)\n",
    "print(normalized_result)"
   ]
  },
  {
   "cell_type": "markdown",
   "id": "752dc05c-05da-487d-a361-fa828065ab74",
   "metadata": {},
   "source": [
    "В 2. Написать цикл while для вычисления арифметико-геометрического среднего (АГС) двух положительных действительных чисел x и y, определяемого как предел последовательностей:"
   ]
  },
  {
   "cell_type": "markdown",
   "id": "c9987080-47a1-4ec1-9815-d69d48c59d00",
   "metadata": {},
   "source": [
    "при начальных значениях a0 = x, b0 = y. Обе последовательности сходятся к одному и тому же числу, обозначаемому как agm(x,y). Используйте этот же цикл для определения константы Гаусса G = 1/agm(1, √2)."
   ]
  },
  {
   "attachments": {
    "42866014-9a7f-4e18-a4de-d952e4ca5383.png": {
     "image/png": "[encoded data removed]"
    }
   },
   "cell_type": "markdown",
   "id": "cad966fa-160a-4d95-838f-eb56408e32b3",
   "metadata": {},
   "source": [
    "![image.png](attachment:42866014-9a7f-4e18-a4de-d952e4ca5383.png)"
   ]
  },
  {
   "cell_type": "code",
   "execution_count": 2,
   "id": "f7dfafc2-80f2-4379-9ff4-38982afc2e5c",
   "metadata": {},
   "outputs": [
    {
     "name": "stdout",
     "output_type": "stream",
     "text": [
      "Константа Гаусса G = 0.8346268416740731\n"
     ]
    }
   ],
   "source": [
    "import math\n",
    "\n",
    "def arithmetic_geometric_mean(x, y, epsilon=1e-10, max_iterations=1000):\n",
    "    a = x\n",
    "    b = y\n",
    "    \n",
    "    iteration = 0\n",
    "    while iteration < max_iterations:\n",
    "        a_next = 0.5 * (a + b)\n",
    "        b_next = math.sqrt(a * b)\n",
    "        \n",
    "        if abs(a_next - a) < epsilon and abs(b_next - b) < epsilon:\n",
    "            return (a_next + b_next) / 2.0\n",
    "        \n",
    "        a = a_next\n",
    "        b = b_next\n",
    "        iteration += 1\n",
    "\n",
    "    raise Exception(\"Не удалось достичь необходимой точности\")\n",
    "\n",
    "# Вычисление константы Гаусса\n",
    "G = 1 / arithmetic_geometric_mean(1, math.sqrt(2))\n",
    "\n",
    "print(\"Константа Гаусса G =\", G)"
   ]
  },
  {
   "cell_type": "markdown",
   "id": "bbbbf68b-947e-407b-be1c-fb85d62c2805",
   "metadata": {},
   "source": [
    "В 3. В игре Fizzbuzz используется числовой счет, но с заменой чисел, делящихся нацело на 3, словом Fizz, чисел, делящихся нацело на 5, – словом Buzz, а чисел, делящихся нацело и на 3, и на 5, – словом FizzBuzz. Написать программу, имитирующую эту игру при числовом счете до 100."
   ]
  },
  {
   "cell_type": "code",
   "execution_count": 3,
   "id": "24515122-2faf-4a83-a149-86c5a416970b",
   "metadata": {},
   "outputs": [
    {
     "name": "stdout",
     "output_type": "stream",
     "text": [
      "1\n",
      "2\n",
      "Fizz\n",
      "4\n",
      "Buzz\n",
      "Fizz\n",
      "7\n",
      "8\n",
      "Fizz\n",
      "Buzz\n",
      "11\n",
      "Fizz\n",
      "13\n",
      "14\n",
      "FizzBuzz\n",
      "16\n",
      "17\n",
      "Fizz\n",
      "19\n",
      "Buzz\n",
      "Fizz\n",
      "22\n",
      "23\n",
      "Fizz\n",
      "Buzz\n",
      "26\n",
      "Fizz\n",
      "28\n",
      "29\n",
      "FizzBuzz\n",
      "31\n",
      "32\n",
      "Fizz\n",
      "34\n",
      "Buzz\n",
      "Fizz\n",
      "37\n",
      "38\n",
      "Fizz\n",
      "Buzz\n",
      "41\n",
      "Fizz\n",
      "43\n",
      "44\n",
      "FizzBuzz\n",
      "46\n",
      "47\n",
      "Fizz\n",
      "49\n",
      "Buzz\n",
      "Fizz\n",
      "52\n",
      "53\n",
      "Fizz\n",
      "Buzz\n",
      "56\n",
      "Fizz\n",
      "58\n",
      "59\n",
      "FizzBuzz\n",
      "61\n",
      "62\n",
      "Fizz\n",
      "64\n",
      "Buzz\n",
      "Fizz\n",
      "67\n",
      "68\n",
      "Fizz\n",
      "Buzz\n",
      "71\n",
      "Fizz\n",
      "73\n",
      "74\n",
      "FizzBuzz\n",
      "76\n",
      "77\n",
      "Fizz\n",
      "79\n",
      "Buzz\n",
      "Fizz\n",
      "82\n",
      "83\n",
      "Fizz\n",
      "Buzz\n",
      "86\n",
      "Fizz\n",
      "88\n",
      "89\n",
      "FizzBuzz\n",
      "91\n",
      "92\n",
      "Fizz\n",
      "94\n",
      "Buzz\n",
      "Fizz\n",
      "97\n",
      "98\n",
      "Fizz\n",
      "Buzz\n"
     ]
    }
   ],
   "source": [
    "for number in range(1, 101):\n",
    "    if number % 3 == 0 and number % 5 == 0:\n",
    "        print(\"FizzBuzz\")\n",
    "    elif number % 3 == 0:\n",
    "        print(\"Fizz\")\n",
    "    elif number % 5 == 0:\n",
    "        print(\"Buzz\")\n",
    "    else:\n",
    "        print(number)"
   ]
  },
  {
   "cell_type": "markdown",
   "id": "aba3117e-0fce-4006-8aae-c0a42d1fdc7c",
   "metadata": {},
   "source": [
    "**В 4**. Неразветвленные молекулы алканов – это насыщенные углеводороды\n",
    "с общей стехиометрической формулой ```CnH2n+2```, в которой атомы углерода образуют простую цепочку, например бутан ```C4H10``` описывается структурной формулой, которую можно представить в виде \n",
    "\n",
    "```H3CCH2 CH2 CH3```\n",
    "\n",
    "Написать программу, выводящую структурную формулу таких алканов с  заданной стехиометрией\n",
    "(предполагается, что n  > 1). Например, при заданной стехиометрии \n",
    "```stoich = 'C8H18'``` должен выводиться результат ```H3C-CH2-CH2-CH2-CH2-CH2-CH2-CH3```."
   ]
  },
  {
   "cell_type": "code",
   "execution_count": 4,
   "id": "392cdff2-33bc-4ca8-997e-f0c893771392",
   "metadata": {},
   "outputs": [
    {
     "name": "stdout",
     "output_type": "stream",
     "text": [
      "H3C-CH2-CH2-CH2-CH2-CH2-CH2-CH2-CH3\n"
     ]
    }
   ],
   "source": [
    "def generate_alkane_structure(stoichiometry):\n",
    "    if not stoichiometry.startswith('C') or 'H' not in stoichiometry:\n",
    "        print(\"Некорректный формат стехиометрии.\")\n",
    "        return\n",
    "\n",
    "    # Разбиваем стехиометрию на количество атомов углерода и водорода\n",
    "    carbon_count = int(stoichiometry[1:stoichiometry.index('H')])\n",
    "    hydrogen_count = int(stoichiometry[stoichiometry.index('H')+1:])\n",
    "\n",
    "    # Генерируем структурную формулу алкана\n",
    "    structure = 'H3C'\n",
    "    for i in range(carbon_count - 1):\n",
    "        structure += '-CH2'\n",
    "    structure += f'-CH3'\n",
    "\n",
    "    return structure\n",
    "\n",
    "# Пример использования\n",
    "stoichiometry = 'C8H18'\n",
    "result = generate_alkane_structure(stoichiometry)\n",
    "if result:\n",
    "    print(result)"
   ]
  },
  {
   "cell_type": "code",
   "execution_count": null,
   "id": "ff4de265-df0b-4db3-9445-3b741e8b79da",
   "metadata": {},
   "outputs": [],
   "source": []
  }
 ],
 "metadata": {
  "kernelspec": {
   "display_name": "Python 3 (ipykernel)",
   "language": "python",
   "name": "python3"
  },
  "language_info": {
   "codemirror_mode": {
    "name": "ipython",
    "version": 3
   },
   "file_extension": ".py",
   "mimetype": "text/x-python",
   "name": "python",
   "nbconvert_exporter": "python",
   "pygments_lexer": "ipython3",
   "version": "3.10.12"
  }
 },
 "nbformat": 4,
 "nbformat_minor": 5
}
