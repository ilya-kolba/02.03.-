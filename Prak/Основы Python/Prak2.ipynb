{
 "cells": [
  {
   "cell_type": "markdown",
   "id": "1c92cc19-3a8b-494c-a456-4ee875c7d8ad",
   "metadata": {},
   "source": [
    "З 0. Последовательность чисел-градин (hailstone sequence; гипотеза Коллатца – Collatz conjecture), начинающаяся с целого числа n > 0, генерируется с помощью многократно повторяющегося применения следующих трех правил:\n",
    "\n",
    "если n = 1, то последовательность завершается;\n",
    "если n четное, то следующее число последовательности равно n/2;\n",
    "если n нечетное, то следующее число последовательности равно 3n + 1. а) Написать программу вычисления последовательности чисел-градин, начиная с 27. б) Установить время останова процесса как количество чисел в заданной последовательности чисел-градин. Изменить программу вычисления последовательности чисел-градин, чтобы она возвращала время останова процесса (stopping time) вместо самих чисел-градин. Дополнить программу возможностью демонстрации того факта, что последовательности чиселградин, начинающиеся с числа 1 ≤ n ≤ 100, согласуются с гипотезой Коллатца (утверждающей, что все последовательности чисел-градин в конце концов завершают"
   ]
  },
  {
   "cell_type": "code",
   "execution_count": 1,
   "id": "9dfae418-cd16-47fc-b35b-bd509beefd0d",
   "metadata": {},
   "outputs": [
    {
     "name": "stdout",
     "output_type": "stream",
     "text": [
      "[27, 82, 41, 124, 62, 31, 94, 47, 142, 71, 214, 107, 322, 161, 484, 242, 121, 364, 182, 91, 274, 137, 412, 206, 103, 310, 155, 466, 233, 700, 350, 175, 526, 263, 790, 395, 1186, 593, 1780, 890, 445, 1336, 668, 334, 167, 502, 251, 754, 377, 1132, 566, 283, 850, 425, 1276, 638, 319, 958, 479, 1438, 719, 2158, 1079, 3238, 1619, 4858, 2429, 7288, 3644, 1822, 911, 2734, 1367, 4102, 2051, 6154, 3077, 9232, 4616, 2308, 1154, 577, 1732, 866, 433, 1300, 650, 325, 976, 488, 244, 122, 61, 184, 92, 46, 23, 70, 35, 106, 53, 160, 80, 40, 20, 10, 5, 16, 8, 4, 2, 1]\n",
      "Время останова для числа 27: 111 шагов\n"
     ]
    }
   ],
   "source": [
    "def hailstone_sequence(n):\n",
    "    sequence = [n]\n",
    "    while n != 1:\n",
    "        if n % 2 == 0:\n",
    "            n = n // 2\n",
    "        else:\n",
    "            n = 3 * n + 1\n",
    "        sequence.append(n)\n",
    "    return sequence\n",
    "\n",
    "# Пример использования для n = 27\n",
    "starting_number = 27\n",
    "sequence = hailstone_sequence(starting_number)\n",
    "print(sequence)\n",
    "\n",
    "\n",
    "def stopping_time(n):\n",
    "    count = 0\n",
    "    while n != 1:\n",
    "        if n % 2 == 0:\n",
    "            n = n // 2\n",
    "        else:\n",
    "            n = 3 * n + 1\n",
    "        count += 1\n",
    "    return count\n",
    "\n",
    "# Пример использования для n = 27\n",
    "starting_number = 27\n",
    "time = stopping_time(starting_number)\n",
    "print(f\"Время останова для числа {starting_number}: {time} шагов\")"
   ]
  },
  {
   "cell_type": "markdown",
   "id": "76ced720-15ab-4229-aeea-4d3768108450",
   "metadata": {},
   "source": [
    "З 1. Изменить генератор последовательности чисел-градин из задачи З 0 для генерации последовательности чисел-градин,начиная с произвольного положительного целого числа, которое вводит пользователь в командной строке (использовать sys.argv). Необходимо правильно («аккуратно») обрабатывать случай, когда пользователь забывает задать исходное число n или указывает некорректное значение для n."
   ]
  },
  {
   "cell_type": "code",
   "execution_count": 8,
   "id": "45f5e6bf-c55a-451e-8b97-0285cf0a8c3e",
   "metadata": {},
   "outputs": [
    {
     "name": "stdout",
     "output_type": "stream",
     "text": [
      "Пожалуйста, введите одно положительное целое число в качестве аргумента командной строки.\n"
     ]
    }
   ],
   "source": [
    "import sys\n",
    "\n",
    "def hailstone_sequence(n):\n",
    "    sequence = [n]\n",
    "    while n != 1:\n",
    "        if n % 2 == 0:\n",
    "            n = n // 2\n",
    "        else:\n",
    "            n = 3 * n + 1\n",
    "        sequence.append(n)\n",
    "    return sequence\n",
    "\n",
    "def stopping_time(n):\n",
    "    count = 0\n",
    "    while n != 1:\n",
    "        if n % 2 == 0:\n",
    "            n = n // 2\n",
    "        else:\n",
    "            n = 3 * n + 1\n",
    "        count += 1\n",
    "    return count\n",
    "\n",
    "if len(sys.argv) != 2:\n",
    "    print(\"Пожалуйста, введите одно положительное целое число в качестве аргумента командной строки.\")\n",
    "else:\n",
    "    try:\n",
    "        starting_number = int(sys.argv[1])\n",
    "        if starting_number <= 0:\n",
    "            print(\"Пожалуйста, введите положительное целое число.\")\n",
    "        else:\n",
    "            sequence = hailstone_sequence(starting_number)\n",
    "            print(f\"Последовательность чисел-градин для числа {starting_number}: {sequence}\")\n",
    "            \n",
    "            time = stopping_time(starting_number)\n",
    "            print(f\"Время останова для числа {starting_number}: {time} шагов\")\n",
    "    except ValueError:\n",
    "        print(\"Ошибка: Введите корректное положительное целое число.\")\n"
   ]
  },
  {
   "cell_type": "code",
   "execution_count": null,
   "id": "19140ac2-2e2c-44e0-a743-3a67cb992d3e",
   "metadata": {},
   "outputs": [],
   "source": [
    "З 2. Формула гаверсинуса (haversine) позволяет вычислять кратчайшее расстояние (по дуге большой окружности,или по ортодромии) d между двумя точками на сфере радиуса R по значениям долготы (λ1,λ2) и широты (φ1,φ2) этих точек:\n",
    "\n",
    "image.png\n",
    "\n",
    "где функция haversine для угла α определяется формулой\n",
    "\n",
    "haversin(α) = sin^2(α/2).\n",
    "\n",
    "Написать программу для вычисления кратчайшего расстояния в километрах между двумя точками на поверхности Земли (рассматривая Землю как сферу с радиусом 6378.1 км), заданными как два аргумента командной строки, каждый из которых представлен в форме пары значений широта, долгота в градусах. Например, расстояние между Парижем и Римом вычисляется так:\n",
    "\n",
    "python greatcircle.py 48.9,2.4 41.9,12.5\n",
    "1107 km"
   ]
  },
  {
   "cell_type": "code",
   "execution_count": null,
   "id": "08e621e0-2aa5-4c15-8edc-2e69479bfa5a",
   "metadata": {},
   "outputs": [],
   "source": [
    "import sys\n",
    "import math\n",
    "\n",
    "def haversine(lat1, lon1, lat2, lon2):\n",
    "   \n",
    "    R = 6378.1\n",
    "\n",
    "   \n",
    "    lat1 = math.radians(lat1)\n",
    "    lon1 = math.radians(lon1)\n",
    "    lat2 = math.radians(lat2)\n",
    "    lon2 = math.radians(lon2)\n",
    "\n",
    "    # Разница в широте и долготе\n",
    "    dlat = lat2 - lat1\n",
    "    dlon = lon2 - lon1\n",
    "\n",
    "    # Вычисляем haversin угла\n",
    "    a = math.sin(dlat/2)**2 + math.cos(lat1) * math.cos(lat2) * math.sin(dlon/2)**2\n",
    "    c = 2 * math.atan2(math.sqrt(a), math.sqrt(1-a))\n",
    "\n",
    "    # Вычисляем расстояние\n",
    "    distance = R * c\n",
    "    return distance\n",
    "\n",
    "if len(sys.argv) != 3:\n",
    "    print(\"Использование: python greatcircle.py <широта1,долгота1> <широта2,долгота2>\")\n",
    "    sys.exit(1)\n",
    "\n",
    "try:\n",
    "    lat1, lon1 = map(float, sys.argv[1].split(','))\n",
    "    lat2, lon2 = map(float, sys.argv[2].split(','))\n",
    "except ValueError:\n",
    "    print(\"Ошибка: Некорректный формат координат.\")\n",
    "    sys.exit(1)\n",
    "\n",
    "distance = haversine(lat1, lon1, lat2, lon2)\n",
    "print(f\"{int(distance)} km\")"
   ]
  },
  {
   "cell_type": "code",
   "execution_count": null,
   "id": "05013658-582a-4b6f-94c3-4a081de161fd",
   "metadata": {},
   "outputs": [],
   "source": [
    "З 3.Написать программу для создания каталога test в домашнем каталоге пользователя и поместить в этот каталог 20 файлов в формате SVG (Scalable Vector Graphics), изображающих маленький закрашенный красным цветом круг внутри большой незакрашенной черной окружности. Например:\n",
    "\n",
    "<?xml version=\"1.0\" encoding=\"utf -8\"?>\n",
    " <svg xmlns=\"http://www.w3.org/2000/svg\"\n",
    " xmlns:xlink=\"http://www.w3.org/1999/xlink\"\n",
    " width=\"500\" height=\"500\" style=\"background: #ffffff\">\n",
    "<circle cx=\"250.0\" cy=\"250.0\" r=\"200\" style=\"stroke: black; stroke -width: 2px; fill:\n",
    "none;\"/>\n",
    "<circle cx=\"430.0\" cy=\"250.0\" r=\"20\" style=\"stroke: red; fill: red;\"/>\n",
    "</svg>\n",
    "В каждом файле маленький красный круг должен сдвигаться вдоль внутренней границы большой окружности так, чтобы эти 20 файлов в совокупности могли создать эффект анимации. Один из способов достижения такого результата – использование бесплатной программы ImageMagick (www.imagemagick.org/). Проследить за тем, чтобы все SVG-файлы имели имена fig00.svg, fig01.svg и т. д. Затем выполнить в командной строке операционной системы следующую команду:\n",
    "\n",
    "convert -delay 5 -loop 0 fig*.svg animation.gif\n",
    "для создания анимированного изображения в формате GIF"
   ]
  },
  {
   "cell_type": "code",
   "execution_count": 11,
   "id": "334a898e-4c7d-417c-80d9-f89878199cd1",
   "metadata": {},
   "outputs": [
    {
     "name": "stdout",
     "output_type": "stream",
     "text": [
      "Создан каталог 'test' и сгенерированы файлы SVG с анимацией.\n"
     ]
    }
   ],
   "source": [
    "import os\n",
    "import xml.etree.ElementTree as ET\n",
    "\n",
    "\n",
    "user_home = os.path.expanduser(\"~\")\n",
    "test_directory = os.path.join(user_home, \"test\")\n",
    "os.makedirs(test_directory, exist_ok=True)\n",
    "\n",
    "\n",
    "for i in range(20):\n",
    "    filename = os.path.join(test_directory, f\"fig{i:02d}.svg\")\n",
    "    \n",
    "    svg_root = ET.Element(\"svg\", xmlns=\"http://www.w3.org/2000/svg\", xmlns_xlink=\"http://www.w3.org/1999/xlink\", width=\"500\", height=\"500\", style=\"background: #ffffff\")\n",
    "    \n",
    "    outer_circle = ET.Element(\"circle\", cx=\"250.0\", cy=\"250.0\", r=\"200\", style=\"stroke: black; stroke-width: 2px; fill: none;\")\n",
    "    inner_circle = ET.Element(\"circle\", cx=str(250 + i * 10), cy=\"250.0\", r=\"20\", style=\"stroke: red; fill: red;\")\n",
    "\n",
    "    svg_root.append(outer_circle)\n",
    "    svg_root.append(inner_circle)\n",
    "\n",
    "    with open(filename, \"w\") as svg_file:\n",
    "        svg_file.write(ET.tostring(svg_root, encoding=\"utf-8\").decode())\n",
    "\n",
    "print(\"Создан каталог 'test' и сгенерированы файлы SVG с анимацией.\")\n",
    "\n",
    "\n",
    "#convert -delay 5 -loop 0 fig*.svg animation.gif"
   ]
  },
  {
   "cell_type": "markdown",
   "id": "c9968391-8214-4a7f-8f94-a9ea59075f3d",
   "metadata": {},
   "source": [
    "3.4. Изменить программу из примера П 16 (листинг 4) так, чтобы она перехватывала следующие ошибки и аккуратно обрабатывала их:\n",
    "\n",
    "пользователь не указал имя каталога в командной строке (необходимо вывести сообщение-подсказку по использованию программы);\n",
    "заданный каталог не существует;\n",
    "имя файла в заданном каталоге не соответствует корректному формату;\n",
    "имя файла записано в правильном формате, но сокращенное обозначение месяца не определено (не найдено в списке допустимых обозначений месяцев).\n",
    "В первых двух случаях программа должна завершать свое выполнение. В третьем и четвертом случаях некорректное имя файла должно быть пропущено."
   ]
  },
  {
   "cell_type": "code",
   "execution_count": null,
   "id": "e803766c-778c-4dcc-9675-d45b516baa06",
   "metadata": {},
   "outputs": [],
   "source": [
    "import os\n",
    "import sys\n",
    "\n",
    "months = ['jan', 'feb', 'mar', 'apr', 'may', 'jun', 'jul', 'aug', 'sep', 'oct', 'nov', 'dec']\n",
    "\n",
    "try:\n",
    "    dir_name = sys.argv[1]\n",
    "except IndexError:\n",
    "    print(\"Использование: python eg4-osmodule.py <каталог>\")\n",
    "    sys.exit(1)\n",
    "\n",
    "if not os.path.exists(dir_name):\n",
    "    print(f\"Каталог '{dir_name}' не существует.\")\n",
    "    sys.exit(1)\n",
    "\n",
    "for filename in os.listdir(dir_name):\n",
    "    try:\n",
    "        # Проверяем, что имя файла соответствует формату 'data-DD-MMM-YY.txt'\n",
    "        if not filename.startswith('data-') or not filename.endswith('.txt'):\n",
    "            raise ValueError(\"Некорректное имя файла\")\n",
    "        \n",
    "        d, month, y = int(filename[5:7]), filename[8:11], int(filename[12:14])\n",
    "        \n",
    "        # Проверяем, что сокращенное обозначение месяца корректно\n",
    "        month_lower = month.lower()\n",
    "        if month_lower not in months:\n",
    "            raise ValueError(\"Некорректное сокращенное обозначение месяца\")\n",
    "        \n",
    "        m = months.index(month_lower) + 1\n",
    "        newname = 'data-20{:02d}-{:02d}-{:02d}.txt'.format(y, m, d)\n",
    "        newpath = os.path.join(dir_name, newname)\n",
    "        oldpath = os.path.join(dir_name, filename)\n",
    "        print(oldpath, '->', newpath)\n",
    "        os.rename(oldpath, newpath)\n",
    "    except (ValueError, IndexError):\n",
    "        print(f\"Пропущен файл '{filename}' из-за ошибки формата.\")"
   ]
  },
  {
   "cell_type": "code",
   "execution_count": null,
   "id": "333e5a29-9792-42d7-a7e7-839fab9b49fd",
   "metadata": {},
   "outputs": [],
   "source": []
  }
 ],
 "metadata": {
  "kernelspec": {
   "display_name": "Python 3 (ipykernel)",
   "language": "python",
   "name": "python3"
  },
  "language_info": {
   "codemirror_mode": {
    "name": "ipython",
    "version": 3
   },
   "file_extension": ".py",
   "mimetype": "text/x-python",
   "name": "python",
   "nbconvert_exporter": "python",
   "pygments_lexer": "ipython3",
   "version": "3.10.12"
  }
 },
 "nbformat": 4,
 "nbformat_minor": 5
}
