{
 "cells": [
  {
   "cell_type": "markdown",
   "id": "d3698598-4a51-42c8-9c21-9029d1c7cd9f",
   "metadata": {},
   "source": [
    "**В 1**. Сравнить скорость выполнения алгоритма ```np.fft.fft``` из библиотеки\n",
    "NumPy и непосредственной (собственной) реализации формулы\n",
    "\n",
    "![1.png](1.png)\n",
    "\n",
    "Совет: необходимо интерпретировать формулу как операцию умножения матриц, т. е. скалярное произведение массива с ```n``` значениями функции\n",
    "(используются случайные значения) и массива ```n×n``` с элементами ```exp(−2πimk/n)```\n",
    "при ```m```, ```k = 0, 1, …, n − 1```. Использовать магическую функцию IPython ```%timeit```."
   ]
  },
  {
   "cell_type": "code",
   "execution_count": null,
   "id": "3e3c041d-37bf-4d42-93d8-e6857ee41c98",
   "metadata": {},
   "outputs": [],
   "source": [
    "In [x]: import numpy as np\n",
    "In [x]: n = 512\n",
    "In [x]: # Our input function is just random numbers\n",
    "In [x]: f = np.random.rand(n)\n",
    "\n",
    "In [x]: # Time the NumPy (Cooley-Tukey) DFT algorithm\n",
    "In [x]: %timeit np.fft.fft(f)\n",
    "100000 loops, best of 3: 13.1 us per loop\n",
    "\n",
    "In [x]: # Now calculate the DFT by direct summation\n",
    "In [x]: k = np.arange(n)\n",
    "In [x]: m = k.reshape((n, 1))\n",
    "In [x]: w = np.exp(-2j * np.pi * m * k / n)\n",
    "In [x]: %timeit np.dot(w, f)\n",
    "1000 loops, best of 3: 354 us per loop\n",
    "\n",
    "In [x]: # Check the two methods produce the same result\n",
    "In [x]: ftfast = np.fft.fft(f)\n",
    "In [x]: ftslow = np.dot(w, f)\n",
    "In [x]: np.allclose(ftfast, ftslow)\n",
    "Out[x]: True"
   ]
  }
 ],
 "metadata": {
  "kernelspec": {
   "display_name": "Python 3 (ipykernel)",
   "language": "python",
   "name": "python3"
  },
  "language_info": {
   "codemirror_mode": {
    "name": "ipython",
    "version": 3
   },
   "file_extension": ".py",
   "mimetype": "text/x-python",
   "name": "python",
   "nbconvert_exporter": "python",
   "pygments_lexer": "ipython3",
   "version": "3.10.12"
  }
 },
 "nbformat": 4,
 "nbformat_minor": 5
}
