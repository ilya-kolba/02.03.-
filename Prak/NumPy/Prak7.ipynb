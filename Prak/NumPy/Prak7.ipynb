{
 "cells": [
  {
   "cell_type": "markdown",
   "id": "a610a280-b903-465b-b3b4-d9adc2fd3906",
   "metadata": {},
   "source": [
    "В 1. Показать, что три матрицы Паули, являются унитарными (единичными). То есть что σp† σp = I2 при p = x, y, z, где I2 – матрица тождественности, а символ † обозначает эрмитову сопряженность (сопряженное транспонирование)."
   ]
  },
  {
   "cell_type": "code",
   "execution_count": null,
   "id": "aa788906-04ee-420b-bf07-7c0f9cf9dd05",
   "metadata": {},
   "outputs": [],
   "source": [
    "In [x]: pauli_matrices = np.array((\n",
    "                                   ((0, 1), (1, 0)),\n",
    "                                   ((0, -1j), (1j, 0)),\n",
    "                                   ((1, 0), (0, -1))\n",
    "                                  ))\n",
    "In [x]: I2 = np.eye(2)\n",
    "In [x]: for sigma in pauli_matrices:\n",
    "   ...:     print(np.allclose(sigma.T.conj().dot(sigma), I2))\n",
    "True\n",
    "True\n",
    "True"
   ]
  },
  {
   "cell_type": "markdown",
   "id": "f1ce26ee-4dd5-4e2b-8d1b-8aeacc4e61b1",
   "metadata": {},
   "source": [
    "В 2. Тикер-таймер, часто используемый в школьных физических экспериментах, представляет собой устройство, которое наносит точечные метки на полоску бумажной ленты через равномерные интервалы времени, тогда как лента перемещается через тикер-таймер с некоторой (возможно, переменной) скоростью. Приведенные ниже данные соответствуют позициям (в см) меток на ленте, протягиваемой сквозь тикер-таймер падающим грузом. Метки наносятся через каждые 1/10 с."
   ]
  },
  {
   "cell_type": "code",
   "execution_count": null,
   "id": "d6060b54-09c6-4459-a0f2-d0a0ecc47edb",
   "metadata": {},
   "outputs": [],
   "source": [
    "import numpy as np\n",
    "from scipy.optimize import curve_fit\n",
    "import matplotlib.pyplot as plt\n",
    "\n",
    "# Заданные данные\n",
    "t = np.arange(0, len(x) / 10, 0.1)  # Время в секундах\n",
    "x_data = np.array(x)  # Позиции в см\n",
    "\n",
    "# Определение функции подгонки\n",
    "def fit_function(t, x0, v0, g):\n",
    "    return x0 + v0 * t + 0.5 * g * t**2\n",
    "\n",
    "# Выполнение подгонки\n",
    "params, covariance = curve_fit(fit_function, t, x_data)\n",
    "\n",
    "# Извлечение параметров подгонки\n",
    "x0_fit, v0_fit, g_fit = params\n",
    "\n",
    "# Печать результатов\n",
    "print(f\"Параметры подгонки:\")\n",
    "print(f\"x0: {x0_fit} см\")\n",
    "print(f\"v0: {v0_fit} см/с\")\n",
    "print(f\"g: {g_fit} см/с^2\")\n",
    "\n",
    "# Отрисовка данных и подгонки\n",
    "plt.scatter(t, x_data, label='Исходные данные')\n",
    "plt.plot(t, fit_function(t, x0_fit, v0_fit, g_fit), label='Подгонка', color='red')\n",
    "plt.xlabel('Время (с)')\n",
    "plt.ylabel('Позиция (см)')\n",
    "plt.legend()\n",
    "plt.show()\n"
   ]
  },
  {
   "cell_type": "code",
   "execution_count": null,
   "id": "73f159d8-90ac-4d49-a32e-ab3695f361d1",
   "metadata": {},
   "outputs": [],
   "source": []
  }
 ],
 "metadata": {
  "kernelspec": {
   "display_name": "Python 3 (ipykernel)",
   "language": "python",
   "name": "python3"
  },
  "language_info": {
   "codemirror_mode": {
    "name": "ipython",
    "version": 3
   },
   "file_extension": ".py",
   "mimetype": "text/x-python",
   "name": "python",
   "nbconvert_exporter": "python",
   "pygments_lexer": "ipython3",
   "version": "3.10.12"
  }
 },
 "nbformat": 4,
 "nbformat_minor": 5
}
